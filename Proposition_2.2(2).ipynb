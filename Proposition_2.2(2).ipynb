{
 "cells": [
  {
   "cell_type": "code",
   "execution_count": 1,
   "id": "6ba88c64-d418-488e-acb0-c101b33b549c",
   "metadata": {},
   "outputs": [
    {
     "data": {
      "text/plain": [
       "k"
      ]
     },
     "execution_count": 1,
     "metadata": {},
     "output_type": "execute_result"
    }
   ],
   "source": [
    "import sage\n",
    "import numpy as np\n",
    "var('k')"
   ]
  },
  {
   "cell_type": "code",
   "execution_count": 126,
   "id": "ec9d0a46-b548-44d6-8822-d7f3150174f7",
   "metadata": {},
   "outputs": [],
   "source": [
    "# given an even value of t, and a variable z which is the index of the last period whose coefficient we are considering\n",
    "# returns a list of the coefficients of the first ceil(3m/2) periods from the relation given by 3t \n",
    "def ES3(t, z):\n",
    "    poly_coeffs = []\n",
    "    for l in range(1, z+1):\n",
    "        coeff = 0\n",
    "        if l%2==1:\n",
    "            # since r_l correspond the r_{k-2-l} term by 1_t, the term in the summation (r_{k-2-t+l}) corresponds to\n",
    "            # r_{t-l}. Thus, to find the coefficient of r_l, the index of the first summation must be t-l\n",
    "            if m <= t:\n",
    "                coeff = binomial(t,t-l)\n",
    "            \n",
    "            # since r_l corresponds to r_{k-2-l}, the two indices we care about are l and k-2-l, and the r_k-2-l\n",
    "            # only appears if l>= t\n",
    "            if l>=t:\n",
    "                coeff += binomial(k-2-t, k-2-l)\n",
    "            coeff += binomial(k-2-t,l)\n",
    "            \n",
    "            poly_coeffs.append(coeff)\n",
    "    return poly_coeffs"
   ]
  },
  {
   "cell_type": "code",
   "execution_count": 125,
   "id": "f7e0ca8f-0a24-42a9-a9b8-c5460a28d989",
   "metadata": {},
   "outputs": [],
   "source": [
    "# given integers m and a, returns the ceil(3m/2) square matrix A directly from the calculations of 3t \n",
    "def matrix_A_actual(m,a):\n",
    "    coeffs = []\n",
    "    matrix_size = (6*m + 2*floor(a/2) -2)/2\n",
    "    for t in range(2*(matrix_size - ceil(3*m/2)) + 1,2*(matrix_size) + 1):\n",
    "        if t%2 == 0:\n",
    "            row = ES3(t,2*(matrix_size))\n",
    "            for i in range(len(row)):\n",
    "                coeffs.append(row[i])\n",
    "    M = matrix(SR, ceil(3*m/2), matrix_size, coeffs)\n",
    "    M = M.subs(k = 12*m+2*a)\n",
    "    return M.matrix_from_rows_and_columns(range(ceil(3*m/2)), range(ceil(3*m/2)))"
   ]
  },
  {
   "cell_type": "code",
   "execution_count": 127,
   "id": "66a32270-9613-43d6-83d6-63330bc28c3d",
   "metadata": {},
   "outputs": [],
   "source": [
    "# given integers m and a, returns the ceiling(3m/2) square matrix A using the formula provided in the paper \n",
    "def matrix_A_formula(m, a):\n",
    "    M = matrix(SR, ceil(3*m/2))\n",
    "    for i in range(1, ceil(3*m/2)+1):\n",
    "        for j in range(1, ceil(3*m/2)+1):\n",
    "            M[i-1, j-1] =(binomial(2*a - 2*i + 6*m + 2*ceil(3/2*m) - 2*floor(1/2*a), 2*j - 1) \n",
    "                + binomial(2*i + 6*m - 2*ceil(3/2*m) + 2*floor(1/2*a) - 2, 2*j - 1))\n",
    "            if m%2 == 1 and (a==1 or a==0)and i == 1 and j == ceil(3*m/2):\n",
    "                M[i-1, j-1] = 9*m + binomial(9*m - 1 + 2*a, 3*m) - 1 + 2*a\n",
    "    return M"
   ]
  },
  {
   "cell_type": "code",
   "execution_count": 131,
   "id": "3d03202d-7dbd-4d00-abc9-f9a9e1eacdde",
   "metadata": {},
   "outputs": [],
   "source": [
    "# given integers m and a, returns the elimination matrix P that is used to get M into the form of a lower \n",
    "# anti-triangular matrix using the formula provided in the paper \n",
    "def matrix_P(m, a):\n",
    "    P = matrix(SR, ceil(3*m/2))\n",
    "    for i in range(1, ceil(3*m/2)+1):\n",
    "        for j in range(1, ceil(3*m/2)+1):\n",
    "            if i<=j:\n",
    "                if a%2 == 0:\n",
    "                    P[i-1,j-1] = (-1)^(-i + j)*(binomial(-2*i + 2*ceil(3/2*m) - 1, -i + j) - binomial(-2*i + 2*ceil(3/2*m) - 1, -i + j - 2))\n",
    "                else:\n",
    "                    P[i-1,j-1] = (-1)^(j-i)*2*(ceil(3*m/2) - j + 1)^2/((2*ceil(3*m/2) - i - j + 2)*(ceil(3*m/2) - i + 1))\n",
    "                    P[i-1, j-1] *= binomial(2*ceil(3*m/2) - 2*i + 1,j - i)\n",
    "            else:\n",
    "                P[i-1,j-1] = 0\n",
    "    return P"
   ]
  },
  {
   "cell_type": "code",
   "execution_count": 133,
   "id": "80260047-cc75-4f9d-8a0d-e14d354a25e4",
   "metadata": {},
   "outputs": [],
   "source": [
    "# given integers m and a, returns the anti-diagonal of PA in a list by actually computing PA\n",
    "def anti_diagonal_actual(m,a):\n",
    "    P = matrix_P_formula(m, a)\n",
    "    A = matrix_A_formula(m, a)\n",
    "    PA = P*A\n",
    "    D = []\n",
    "    for j in range(1, ceil(3*m/2)+1):\n",
    "        y = ceil(3*m/2)+1-j\n",
    "        D.append(PA[y-1, j-1])\n",
    "    return D"
   ]
  },
  {
   "cell_type": "code",
   "execution_count": 135,
   "id": "7234de60-434f-4168-84d2-1dae13009b10",
   "metadata": {},
   "outputs": [],
   "source": [
    "# given integers m and a, returns the anti-diagonal of PA in a list using the formula provided in the paper \n",
    "def anti_diagonal_formula(m, a):\n",
    "    D = []\n",
    "    for j in range(1, ceil(3*m/2)+1):\n",
    "        if a%2 ==0:\n",
    "            D.append(2^(2*(j-1))*(12*m -2*j+2*a))\n",
    "            if m%2==1 and j == (3*m+1)/2 and a == 0:\n",
    "                D[j-1] = 2^(3*m-1)*(9*m -1) + (9*m-1)\n",
    "        else:\n",
    "            D.append(2^(2*(j-1))*(12*m -2*j+2*a)*(2*j-1)/j)\n",
    "            if m%2==1 and j == (3*m+1)/2 and a == 1:\n",
    "                D[j-1] = 2^(3*m)*(9*m +1)*(3*m)/(3*m+1) + (9*m+1)\n",
    "    diagonal_term = []\n",
    "    return D"
   ]
  },
  {
   "cell_type": "code",
   "execution_count": 138,
   "id": "0920a6b7-c230-47f1-920d-f78548490c93",
   "metadata": {},
   "outputs": [
    {
     "name": "stdout",
     "output_type": "stream",
     "text": [
      "m =  5 and a =  1\n",
      "The matrix A given by the process described in the paper\n"
     ]
    },
    {
     "data": {
      "text/html": [
       "<html>\\(\\displaystyle \\left(\\begin{array}{rrrrrrrr}\n",
       "60 & 15544 & 1372756 & 53528112 & 1101718332 & 13340783560 & 101766230804 & 511738760590 \\\\\n",
       "60 & 13804 & 1090376 & 38332008 & 708941948 & 7669343500 & 51915526992 & 229911617072 \\\\\n",
       "60 & 12296 & 859236 & 27010152 & 445940430 & 4280593200 & 25518739848 & 98672428432 \\\\\n",
       "60 & 11020 & 673512 & 18721080 & 273606840 & 2311969400 & 12033300400 & 40225360560 \\\\\n",
       "60 & 9976 & 528276 & 12790800 & 163509060 & 1204027720 & 5415447716 & 15471457104 \\\\\n",
       "60 & 9164 & 419496 & 8693784 & 95450784 & 603301440 & 2313285744 & 5569210064 \\\\\n",
       "60 & 8584 & 344036 & 6037416 & 55575806 & 293823920 & 938384360 & 1863693680 \\\\\n",
       "60 & 8236 & 299656 & 4549896 & 34955700 & 150498660 & 384815760 & 603164880\n",
       "\\end{array}\\right)\\)</html>"
      ],
      "text/latex": [
       "$\\displaystyle \\left(\\begin{array}{rrrrrrrr}\n",
       "60 & 15544 & 1372756 & 53528112 & 1101718332 & 13340783560 & 101766230804 & 511738760590 \\\\\n",
       "60 & 13804 & 1090376 & 38332008 & 708941948 & 7669343500 & 51915526992 & 229911617072 \\\\\n",
       "60 & 12296 & 859236 & 27010152 & 445940430 & 4280593200 & 25518739848 & 98672428432 \\\\\n",
       "60 & 11020 & 673512 & 18721080 & 273606840 & 2311969400 & 12033300400 & 40225360560 \\\\\n",
       "60 & 9976 & 528276 & 12790800 & 163509060 & 1204027720 & 5415447716 & 15471457104 \\\\\n",
       "60 & 9164 & 419496 & 8693784 & 95450784 & 603301440 & 2313285744 & 5569210064 \\\\\n",
       "60 & 8584 & 344036 & 6037416 & 55575806 & 293823920 & 938384360 & 1863693680 \\\\\n",
       "60 & 8236 & 299656 & 4549896 & 34955700 & 150498660 & 384815760 & 603164880\n",
       "\\end{array}\\right)$"
      ],
      "text/plain": [
       "[          60        15544      1372756     53528112   1101718332  13340783560 101766230804 511738760590]\n",
       "[          60        13804      1090376     38332008    708941948   7669343500  51915526992 229911617072]\n",
       "[          60        12296       859236     27010152    445940430   4280593200  25518739848  98672428432]\n",
       "[          60        11020       673512     18721080    273606840   2311969400  12033300400  40225360560]\n",
       "[          60         9976       528276     12790800    163509060   1204027720   5415447716  15471457104]\n",
       "[          60         9164       419496      8693784     95450784    603301440   2313285744   5569210064]\n",
       "[          60         8584       344036      6037416     55575806    293823920    938384360   1863693680]\n",
       "[          60         8236       299656      4549896     34955700    150498660    384815760    603164880]"
      ]
     },
     "metadata": {},
     "output_type": "display_data"
    },
    {
     "name": "stdout",
     "output_type": "stream",
     "text": [
      "\n",
      "The matrix A given by the formula provided in the paper\n"
     ]
    },
    {
     "data": {
      "text/html": [
       "<html>\\(\\displaystyle \\left(\\begin{array}{rrrrrrrr}\n",
       "60 & 15544 & 1372756 & 53528112 & 1101718332 & 13340783560 & 101766230804 & 511738760590 \\\\\n",
       "60 & 13804 & 1090376 & 38332008 & 708941948 & 7669343500 & 51915526992 & 229911617072 \\\\\n",
       "60 & 12296 & 859236 & 27010152 & 445940430 & 4280593200 & 25518739848 & 98672428432 \\\\\n",
       "60 & 11020 & 673512 & 18721080 & 273606840 & 2311969400 & 12033300400 & 40225360560 \\\\\n",
       "60 & 9976 & 528276 & 12790800 & 163509060 & 1204027720 & 5415447716 & 15471457104 \\\\\n",
       "60 & 9164 & 419496 & 8693784 & 95450784 & 603301440 & 2313285744 & 5569210064 \\\\\n",
       "60 & 8584 & 344036 & 6037416 & 55575806 & 293823920 & 938384360 & 1863693680 \\\\\n",
       "60 & 8236 & 299656 & 4549896 & 34955700 & 150498660 & 384815760 & 603164880\n",
       "\\end{array}\\right)\\)</html>"
      ],
      "text/latex": [
       "$\\displaystyle \\left(\\begin{array}{rrrrrrrr}\n",
       "60 & 15544 & 1372756 & 53528112 & 1101718332 & 13340783560 & 101766230804 & 511738760590 \\\\\n",
       "60 & 13804 & 1090376 & 38332008 & 708941948 & 7669343500 & 51915526992 & 229911617072 \\\\\n",
       "60 & 12296 & 859236 & 27010152 & 445940430 & 4280593200 & 25518739848 & 98672428432 \\\\\n",
       "60 & 11020 & 673512 & 18721080 & 273606840 & 2311969400 & 12033300400 & 40225360560 \\\\\n",
       "60 & 9976 & 528276 & 12790800 & 163509060 & 1204027720 & 5415447716 & 15471457104 \\\\\n",
       "60 & 9164 & 419496 & 8693784 & 95450784 & 603301440 & 2313285744 & 5569210064 \\\\\n",
       "60 & 8584 & 344036 & 6037416 & 55575806 & 293823920 & 938384360 & 1863693680 \\\\\n",
       "60 & 8236 & 299656 & 4549896 & 34955700 & 150498660 & 384815760 & 603164880\n",
       "\\end{array}\\right)$"
      ],
      "text/plain": [
       "[          60        15544      1372756     53528112   1101718332  13340783560 101766230804 511738760590]\n",
       "[          60        13804      1090376     38332008    708941948   7669343500  51915526992 229911617072]\n",
       "[          60        12296       859236     27010152    445940430   4280593200  25518739848  98672428432]\n",
       "[          60        11020       673512     18721080    273606840   2311969400  12033300400  40225360560]\n",
       "[          60         9976       528276     12790800    163509060   1204027720   5415447716  15471457104]\n",
       "[          60         9164       419496      8693784     95450784    603301440   2313285744   5569210064]\n",
       "[          60         8584       344036      6037416     55575806    293823920    938384360   1863693680]\n",
       "[          60         8236       299656      4549896     34955700    150498660    384815760    603164880]"
      ]
     },
     "metadata": {},
     "output_type": "display_data"
    },
    {
     "name": "stdout",
     "output_type": "stream",
     "text": [
      "\n",
      "Returns if the actual matrix A and the formula match\n",
      "True\n"
     ]
    }
   ],
   "source": [
    "m = 5\n",
    "a = 1\n",
    "print(\"m = \", m, \"and\", \"a = \", a)\n",
    "A_actual = matrix_A_actual(m,a)\n",
    "A_formula = matrix_A_formula(m, a)\n",
    "print(\"The matrix A given by the process described in the paper\")\n",
    "show(A_actual)\n",
    "print()\n",
    "print(\"The matrix A given by the formula provided in the paper\")\n",
    "show(A_formula)\n",
    "print()\n",
    "print(\"Returns if the actual matrix A and the formula match\")\n",
    "print(A_actual == A_formula)"
   ]
  },
  {
   "cell_type": "code",
   "execution_count": 139,
   "id": "7b283609-88df-47ab-9774-5aeaa8941c7b",
   "metadata": {},
   "outputs": [
    {
     "name": "stdout",
     "output_type": "stream",
     "text": [
      "m =  5 and a =  1\n",
      "The matrix P given by the formula provided in the paper\n"
     ]
    },
    {
     "data": {
      "text/html": [
       "<html>\\(\\displaystyle \\left(\\begin{array}{rrrrrrrr}\n",
       "1 & -\\frac{49}{4} & \\frac{135}{2} & -\\frac{875}{4} & 455 & -\\frac{2457}{4} & \\frac{1001}{2} & -\\frac{715}{4} \\\\\n",
       "0 & 1 & -\\frac{72}{7} & \\frac{325}{7} & -\\frac{832}{7} & \\frac{1287}{7} & -\\frac{1144}{7} & \\frac{429}{7} \\\\\n",
       "0 & 0 & 1 & -\\frac{25}{3} & \\frac{88}{3} & -55 & 55 & -22 \\\\\n",
       "0 & 0 & 0 & 1 & -\\frac{32}{5} & \\frac{81}{5} & -\\frac{96}{5} & \\frac{42}{5} \\\\\n",
       "0 & 0 & 0 & 0 & 1 & -\\frac{9}{2} & 7 & -\\frac{7}{2} \\\\\n",
       "0 & 0 & 0 & 0 & 0 & 1 & -\\frac{8}{3} & \\frac{5}{3} \\\\\n",
       "0 & 0 & 0 & 0 & 0 & 0 & 1 & -1 \\\\\n",
       "0 & 0 & 0 & 0 & 0 & 0 & 0 & 1\n",
       "\\end{array}\\right)\\)</html>"
      ],
      "text/latex": [
       "$\\displaystyle \\left(\\begin{array}{rrrrrrrr}\n",
       "1 & -\\frac{49}{4} & \\frac{135}{2} & -\\frac{875}{4} & 455 & -\\frac{2457}{4} & \\frac{1001}{2} & -\\frac{715}{4} \\\\\n",
       "0 & 1 & -\\frac{72}{7} & \\frac{325}{7} & -\\frac{832}{7} & \\frac{1287}{7} & -\\frac{1144}{7} & \\frac{429}{7} \\\\\n",
       "0 & 0 & 1 & -\\frac{25}{3} & \\frac{88}{3} & -55 & 55 & -22 \\\\\n",
       "0 & 0 & 0 & 1 & -\\frac{32}{5} & \\frac{81}{5} & -\\frac{96}{5} & \\frac{42}{5} \\\\\n",
       "0 & 0 & 0 & 0 & 1 & -\\frac{9}{2} & 7 & -\\frac{7}{2} \\\\\n",
       "0 & 0 & 0 & 0 & 0 & 1 & -\\frac{8}{3} & \\frac{5}{3} \\\\\n",
       "0 & 0 & 0 & 0 & 0 & 0 & 1 & -1 \\\\\n",
       "0 & 0 & 0 & 0 & 0 & 0 & 0 & 1\n",
       "\\end{array}\\right)$"
      ],
      "text/plain": [
       "[      1   -49/4   135/2  -875/4     455 -2457/4  1001/2  -715/4]\n",
       "[      0       1   -72/7   325/7  -832/7  1287/7 -1144/7   429/7]\n",
       "[      0       0       1   -25/3    88/3     -55      55     -22]\n",
       "[      0       0       0       1   -32/5    81/5   -96/5    42/5]\n",
       "[      0       0       0       0       1    -9/2       7    -7/2]\n",
       "[      0       0       0       0       0       1    -8/3     5/3]\n",
       "[      0       0       0       0       0       0       1      -1]\n",
       "[      0       0       0       0       0       0       0       1]"
      ]
     },
     "metadata": {},
     "output_type": "display_data"
    },
    {
     "name": "stdout",
     "output_type": "stream",
     "text": [
      "\n",
      "The matrix PA\n"
     ]
    },
    {
     "data": {
      "text/html": [
       "<html>\\(\\displaystyle \\left(\\begin{array}{rrrrrrrr}\n",
       "0 & 0 & 0 & 0 & 0 & 0 & 0 & 1413166 \\\\\n",
       "0 & 0 & 0 & 0 & 0 & 0 & \\frac{2555904}{7} & \\frac{221859840}{7} \\\\\n",
       "0 & 0 & 0 & 0 & 0 & \\frac{281600}{3} & \\frac{26540032}{3} & 217470336 \\\\\n",
       "0 & 0 & 0 & 0 & \\frac{119808}{5} & 2444800 & \\frac{325683712}{5} & \\frac{3564522336}{5} \\\\\n",
       "0 & 0 & 0 & 6048 & 666224 & 19193370 & 227497228 & 1344790496 \\\\\n",
       "0 & 0 & \\frac{4480}{3} & 177168 & \\frac{16524404}{3} & \\frac{211806260}{3} & \\frac{1356861152}{3} & \\frac{4813905152}{3} \\\\\n",
       "0 & 348 & 44380 & 1487520 & 20620106 & 143325260 & 553568600 & 1260528800 \\\\\n",
       "60 & 8236 & 299656 & 4549896 & 34955700 & 150498660 & 384815760 & 603164880\n",
       "\\end{array}\\right)\\)</html>"
      ],
      "text/latex": [
       "$\\displaystyle \\left(\\begin{array}{rrrrrrrr}\n",
       "0 & 0 & 0 & 0 & 0 & 0 & 0 & 1413166 \\\\\n",
       "0 & 0 & 0 & 0 & 0 & 0 & \\frac{2555904}{7} & \\frac{221859840}{7} \\\\\n",
       "0 & 0 & 0 & 0 & 0 & \\frac{281600}{3} & \\frac{26540032}{3} & 217470336 \\\\\n",
       "0 & 0 & 0 & 0 & \\frac{119808}{5} & 2444800 & \\frac{325683712}{5} & \\frac{3564522336}{5} \\\\\n",
       "0 & 0 & 0 & 6048 & 666224 & 19193370 & 227497228 & 1344790496 \\\\\n",
       "0 & 0 & \\frac{4480}{3} & 177168 & \\frac{16524404}{3} & \\frac{211806260}{3} & \\frac{1356861152}{3} & \\frac{4813905152}{3} \\\\\n",
       "0 & 348 & 44380 & 1487520 & 20620106 & 143325260 & 553568600 & 1260528800 \\\\\n",
       "60 & 8236 & 299656 & 4549896 & 34955700 & 150498660 & 384815760 & 603164880\n",
       "\\end{array}\\right)$"
      ],
      "text/plain": [
       "[           0            0            0            0            0            0            0      1413166]\n",
       "[           0            0            0            0            0            0    2555904/7  221859840/7]\n",
       "[           0            0            0            0            0     281600/3   26540032/3    217470336]\n",
       "[           0            0            0            0     119808/5      2444800  325683712/5 3564522336/5]\n",
       "[           0            0            0         6048       666224     19193370    227497228   1344790496]\n",
       "[           0            0       4480/3       177168   16524404/3  211806260/3 1356861152/3 4813905152/3]\n",
       "[           0          348        44380      1487520     20620106    143325260    553568600   1260528800]\n",
       "[          60         8236       299656      4549896     34955700    150498660    384815760    603164880]"
      ]
     },
     "metadata": {},
     "output_type": "display_data"
    },
    {
     "name": "stdout",
     "output_type": "stream",
     "text": [
      "\n"
     ]
    }
   ],
   "source": [
    "m = 5\n",
    "a = 1\n",
    "print(\"m = \", m, \"and\", \"a = \", a)\n",
    "P = matrix_P_formula(m, a)\n",
    "print(\"The matrix P given by the formula provided in the paper\")\n",
    "show(P)\n",
    "A = matrix_A_formula(m, a)\n",
    "print()\n",
    "print(\"The matrix PA\")\n",
    "show(P*A)\n",
    "print()"
   ]
  },
  {
   "cell_type": "code",
   "execution_count": 140,
   "id": "e19db1fa-f348-402a-b3f7-4322229b8983",
   "metadata": {},
   "outputs": [
    {
     "name": "stdout",
     "output_type": "stream",
     "text": [
      "m =  5 and a =  1\n",
      "The list of the anti-diagonals taken from the matrix PA\n"
     ]
    },
    {
     "data": {
      "text/html": [
       "<html>\\(\\displaystyle \\left[60, 348, \\frac{4480}{3}, 6048, \\frac{119808}{5}, \\frac{281600}{3}, \\frac{2555904}{7}, 1413166\\right]\\)</html>"
      ],
      "text/latex": [
       "$\\displaystyle \\left[60, 348, \\frac{4480}{3}, 6048, \\frac{119808}{5}, \\frac{281600}{3}, \\frac{2555904}{7}, 1413166\\right]$"
      ],
      "text/plain": [
       "[60, 348, 4480/3, 6048, 119808/5, 281600/3, 2555904/7, 1413166]"
      ]
     },
     "metadata": {},
     "output_type": "display_data"
    },
    {
     "name": "stdout",
     "output_type": "stream",
     "text": [
      "\n",
      "The list of the anti-diagonals given the formula provided in the paper\n"
     ]
    },
    {
     "data": {
      "text/html": [
       "<html>\\(\\displaystyle \\left[60, 348, \\frac{4480}{3}, 6048, \\frac{119808}{5}, \\frac{281600}{3}, \\frac{2555904}{7}, 1413166\\right]\\)</html>"
      ],
      "text/latex": [
       "$\\displaystyle \\left[60, 348, \\frac{4480}{3}, 6048, \\frac{119808}{5}, \\frac{281600}{3}, \\frac{2555904}{7}, 1413166\\right]$"
      ],
      "text/plain": [
       "[60, 348, 4480/3, 6048, 119808/5, 281600/3, 2555904/7, 1413166]"
      ]
     },
     "metadata": {},
     "output_type": "display_data"
    },
    {
     "name": "stdout",
     "output_type": "stream",
     "text": [
      "\n",
      "Returns if the actual anti_diagonal and the formula match\n",
      "True\n"
     ]
    }
   ],
   "source": [
    "m = 5\n",
    "a = 1\n",
    "print(\"m = \", m, \"and\", \"a = \", a)\n",
    "diagonal_actual = anti_diagonal_actual(m,a)\n",
    "diagonal_formula = anti_diagonal_formula(m,a)\n",
    "print(\"The list of the anti-diagonals taken from the matrix PA\")\n",
    "show(diagonal_actual)\n",
    "print()\n",
    "print(\"The list of the anti-diagonals given the formula provided in the paper\")\n",
    "show(diagonal_formula)\n",
    "print()\n",
    "print(\"Returns if the actual anti_diagonal and the formula match\")\n",
    "print(diagonal_actual == diagonal_formula)"
   ]
  },
  {
   "cell_type": "code",
   "execution_count": null,
   "id": "d07b2c74-593a-41c8-a11f-4984a2fd36c1",
   "metadata": {},
   "outputs": [],
   "source": []
  }
 ],
 "metadata": {
  "kernelspec": {
   "display_name": "SageMath 10.6",
   "language": "sage",
   "name": "sagemath"
  },
  "language_info": {
   "codemirror_mode": {
    "name": "ipython",
    "version": 3
   },
   "file_extension": ".py",
   "mimetype": "text/x-python",
   "name": "python",
   "nbconvert_exporter": "python",
   "pygments_lexer": "ipython3",
   "version": "3.11.13"
  }
 },
 "nbformat": 4,
 "nbformat_minor": 5
}
