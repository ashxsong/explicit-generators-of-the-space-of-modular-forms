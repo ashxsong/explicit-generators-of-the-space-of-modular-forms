{
 "cells": [
  {
   "cell_type": "code",
   "execution_count": 1,
   "id": "5fb4bcd4",
   "metadata": {},
   "outputs": [],
   "source": [
    "def matrix_A_actual(m, a):\n",
    "    '''\n",
    "    Computes the coefficient matrix A directly from the Eichler-Shimura relations.\n",
    "    \n",
    "    inputs:\n",
    "        -  m: a positive integer\n",
    "        -  a: an integer between 0 (inclusive) and 5 (inclusive)\n",
    "    \n",
    "    returns: the coefficient matrix A for kappa = 12 * m + 2 * a\n",
    "    '''\n",
    "    kappa = 12 * m + 2 * a\n",
    "    t_lower = 6 * m - 2 * ceil(3 * m / 2) + 2 * floor(a / 2)\n",
    "    t_upper = 6 * m + 2 * floor(a / 2) - 2\n",
    "    l_lower = 2\n",
    "    l_upper = 2 * ceil(3 * m / 2)\n",
    "    rows_A = []\n",
    "    for t in range(t_lower, t_upper + 1, 2):\n",
    "        row_A = []\n",
    "        for l in range(l_lower, l_upper + 1, 2):\n",
    "            if l <= t:\n",
    "                row_A.append(binomial(kappa - 2 - t, l) - binomial(t, t - l))\n",
    "            else:\n",
    "                row_A.append(binomial(kappa - 2 - t, l) - binomial(kappa - 2 - t, kappa - 2 - l))\n",
    "        rows_A.append(row_A)\n",
    "    return Matrix(rows_A)"
   ]
  },
  {
   "cell_type": "code",
   "execution_count": 2,
   "id": "4dfe5a77",
   "metadata": {},
   "outputs": [],
   "source": [
    "def matrix_A_formula(m, a):\n",
    "    '''\n",
    "    Computes the coefficient matrix A using our formula in the paper.\n",
    "    \n",
    "    inputs:\n",
    "        -  m: a positive integer\n",
    "        -  a: an integer between 0 (inclusive) and 5 (inclusive)\n",
    "    \n",
    "    returns: the coefficient matrix A for kappa = 12 * m + 2 * a\n",
    "    '''\n",
    "    dim = ceil(3 * m / 2)\n",
    "    A = identity_matrix(SR, dim)\n",
    "    for i in range(1, dim + 1, 1):\n",
    "        for j in range(1, dim + 1, 1):\n",
    "            A[i - 1, j - 1] = (binomial(6 * m + 2 * ceil(3 * m / 2) - 2 * i + 2 * a - 2 * floor(a / 2), 2 * j) \n",
    "                               - binomial(6 * m - 2 * ceil(3 * m / 2) + 2 * i + 2 * floor(a / 2) - 2, 2 * j))\n",
    "    if m % 2 == 1:\n",
    "        if a == 0:\n",
    "            A[0, dim - 1] = binomial(9 * m - 1, 3 * m + 1) - binomial(9 * m - 1, 2)\n",
    "        if a == 1:\n",
    "            A[0, dim - 1] = binomial(9 * m + 1, 3 * m + 1) - binomial(9 * m + 1, 2)\n",
    "    return A"
   ]
  },
  {
   "cell_type": "code",
   "execution_count": 3,
   "id": "02eea70c",
   "metadata": {},
   "outputs": [],
   "source": [
    "def matrix_P(m, a):\n",
    "    '''\n",
    "    Computes the elimination matrix P of A using our formula in the paper, where PA is a lower\n",
    "    anti-triangular matrix.\n",
    "    \n",
    "    inputs:\n",
    "        -  m: a positive integer\n",
    "        -  a: an integer between 0 (inclusive) and 5 (inclusive)\n",
    "    \n",
    "    returns: the elimination matrix P of A for kappa = 12 * m + 2 * a\n",
    "    '''\n",
    "    dim = ceil(3 * m / 2)\n",
    "    P = identity_matrix(SR, dim)\n",
    "    if a % 2 == 0:\n",
    "        for i in range(1, dim + 1, 1):\n",
    "            for j in range(1, dim + 1, 1):\n",
    "                if i <= j:\n",
    "                    P[i - 1, j - 1] = (-1)^(j - i) * binomial(2 * ceil(3 * m / 2) - 2 * i + 1, j - i)\n",
    "                else:\n",
    "                    P[i - 1, j - 1] = 0\n",
    "    else:\n",
    "        for i in range(1, dim + 1, 1):\n",
    "            for j in range(1, dim + 1, 1):\n",
    "                if i <= j:\n",
    "                    P[i - 1, j - 1] = ((-1)^(j - i) * (binomial(2 * ceil(3 * m / 2) - 2 * i + 1, j - i) \n",
    "                                                       - binomial(2 * ceil(3 * m / 2) - 2 * i + 1, j - i - 1)))\n",
    "                else:\n",
    "                    P[i - 1, j - 1] = 0\n",
    "    return P"
   ]
  },
  {
   "cell_type": "code",
   "execution_count": 4,
   "id": "bd7e3eff",
   "metadata": {},
   "outputs": [],
   "source": [
    "def anti_diagonal_actual(m, a):\n",
    "    '''\n",
    "    Computes the entries of the anti-diagonal of PA from the elimination matrix P and the\n",
    "    coefficient matrix A that is directly computed from the Eichler-Shimura relations.\n",
    "    \n",
    "    inputs:\n",
    "        -  m: a positive integer\n",
    "        -  a: an integer between 0 (inclusive) and 5 (inclusive)\n",
    "    \n",
    "    returns: the list of entries of the anti-diagonal of PA\n",
    "    '''\n",
    "    dim = ceil(3 * m / 2)\n",
    "    PA = matrix_P(m, a) * matrix_A_actual(m, a)\n",
    "    entries = []\n",
    "    for j in range(dim):\n",
    "        entries.append(PA[dim - j - 1, j])\n",
    "    return entries"
   ]
  },
  {
   "cell_type": "code",
   "execution_count": 5,
   "id": "27004734",
   "metadata": {},
   "outputs": [],
   "source": [
    "def anti_diagonal_formula(m, a):\n",
    "    '''\n",
    "    Computes the entries of the anti-diagonal of PA using our formula in the paper.\n",
    "    \n",
    "    inputs:\n",
    "        -  m: a positive integer\n",
    "        -  a: an integer between 0 (inclusive) and 5 (inclusive)\n",
    "    \n",
    "    returns: the list of entries of the anti-diagonal of PA\n",
    "    '''\n",
    "    dim = ceil(3 * m / 2)\n",
    "    entries = []\n",
    "    if a % 2 == 0:\n",
    "        for j in range(1, dim + 1, 1):\n",
    "            entries.append(2^(2 * (j - 1)) * (12 * m - 2 * j + 2 * a - 1))\n",
    "    else:\n",
    "        for j in range(1, dim + 1, 1):\n",
    "            entries.append(2^(2 * j - 1) * (12 * m - 2 * j + 2 * a - 1))\n",
    "    if m % 2 == 1:\n",
    "        if a == 0:\n",
    "            entries[-1] = 2^(3 * m - 1) * (9 * m - 2) - binomial(9 * m - 1, 2)\n",
    "        if a == 1:\n",
    "            entries[-1] = 2^(3 * m) * (9 * m) - binomial(9 * m + 1, 2)\n",
    "    return entries"
   ]
  },
  {
   "cell_type": "code",
   "execution_count": 6,
   "id": "c19fcf98",
   "metadata": {},
   "outputs": [
    {
     "data": {
      "text/html": [
       "<html>\\(\\displaystyle \\verb|The|\\verb| |\\verb|actual|\\verb| |\\verb|coefficient|\\verb| |\\verb|matrix|\\verb| |\\verb|A|\\verb| |\\verb|for|\\verb| |\\verb|m|\\verb| |\\verb|=| \\verb| |\\verb|5| \\verb| |\\verb|and|\\verb| |\\verb|a|\\verb| |\\verb|=| \\verb| |\\verb|1| \\verb| |\\verb|is|\\)</html>"
      ],
      "text/latex": [
       "$\\displaystyle \\verb|The|\\verb| |\\verb|actual|\\verb| |\\verb|coefficient|\\verb| |\\verb|matrix|\\verb| |\\verb|A|\\verb| |\\verb|for|\\verb| |\\verb|m|\\verb| |\\verb|=| \\verb| |\\verb|5| \\verb| |\\verb|and|\\verb| |\\verb|a|\\verb| |\\verb|=| \\verb| |\\verb|1| \\verb| |\\verb|is|$"
      ],
      "text/plain": [
       "'The actual coefficient matrix A for m =' ' 5' ' and a =' ' 1' ' is'"
      ]
     },
     "metadata": {},
     "output_type": "display_data"
    },
    {
     "data": {
      "text/html": [
       "<html>\\(\\displaystyle \\left(\\begin{array}{rrrrrrrr}\n",
       "944 & 162184 & 9363816 & 260929812 & 4076349420 & 38910617564 & 239877544004 & 991493847519 \\\\\n",
       "826 & 133931 & 7051044 & 177219757 & 2481248770 & 21090680793 & 114955808408 & 416714805913 \\\\\n",
       "708 & 108870 & 5227222 & 117986427 & 1471399215 & 11058098324 & 52860226020 & 166509721449 \\\\\n",
       "590 & 86545 & 3799620 & 76778715 & 847475772 & 5586727510 & 23206891080 & 62852096805 \\\\\n",
       "472 & 66500 & 2686068 & 48583722 & 472087110 & 2706828502 & 9669234330 & 22239899817 \\\\\n",
       "354 & 48279 & 1813196 & 29524869 & 252225600 & 1248973544 & 3794335944 & 7307136639 \\\\\n",
       "236 & 31426 & 1114674 & 16593929 & 125816405 & 538696340 & 1382317940 & 2198649695 \\\\\n",
       "118 & 15485 & 529452 & 7410195 & 51389130 & 195371085 & 431319000 & 570658635\n",
       "\\end{array}\\right) .\\)</html>"
      ],
      "text/latex": [
       "$\\displaystyle \\left(\\begin{array}{rrrrrrrr}\n",
       "944 & 162184 & 9363816 & 260929812 & 4076349420 & 38910617564 & 239877544004 & 991493847519 \\\\\n",
       "826 & 133931 & 7051044 & 177219757 & 2481248770 & 21090680793 & 114955808408 & 416714805913 \\\\\n",
       "708 & 108870 & 5227222 & 117986427 & 1471399215 & 11058098324 & 52860226020 & 166509721449 \\\\\n",
       "590 & 86545 & 3799620 & 76778715 & 847475772 & 5586727510 & 23206891080 & 62852096805 \\\\\n",
       "472 & 66500 & 2686068 & 48583722 & 472087110 & 2706828502 & 9669234330 & 22239899817 \\\\\n",
       "354 & 48279 & 1813196 & 29524869 & 252225600 & 1248973544 & 3794335944 & 7307136639 \\\\\n",
       "236 & 31426 & 1114674 & 16593929 & 125816405 & 538696340 & 1382317940 & 2198649695 \\\\\n",
       "118 & 15485 & 529452 & 7410195 & 51389130 & 195371085 & 431319000 & 570658635\n",
       "\\end{array}\\right) .$"
      ],
      "text/plain": [
       "[         944       162184      9363816    260929812   4076349420  38910617564 239877544004 991493847519]\n",
       "[         826       133931      7051044    177219757   2481248770  21090680793 114955808408 416714805913]\n",
       "[         708       108870      5227222    117986427   1471399215  11058098324  52860226020 166509721449]\n",
       "[         590        86545      3799620     76778715    847475772   5586727510  23206891080  62852096805]\n",
       "[         472        66500      2686068     48583722    472087110   2706828502   9669234330  22239899817]\n",
       "[         354        48279      1813196     29524869    252225600   1248973544   3794335944   7307136639]\n",
       "[         236        31426      1114674     16593929    125816405    538696340   1382317940   2198649695]\n",
       "[         118        15485       529452      7410195     51389130    195371085    431319000    570658635] '.'"
      ]
     },
     "metadata": {},
     "output_type": "display_data"
    },
    {
     "data": {
      "text/html": [
       "<html>\\(\\displaystyle \\verb|Using|\\verb| |\\verb|the|\\verb| |\\verb|formula,|\\verb| |\\verb|the|\\verb| |\\verb|coefficient|\\verb| |\\verb|matrix|\\verb| |\\verb|A|\\verb| |\\verb|for|\\verb| |\\verb|m|\\verb| |\\verb|=| \\verb| |\\verb|5| \\verb| |\\verb|and|\\verb| |\\verb|a|\\verb| |\\verb|=| \\verb| |\\verb|1| \\verb| |\\verb|is|\\)</html>"
      ],
      "text/latex": [
       "$\\displaystyle \\verb|Using|\\verb| |\\verb|the|\\verb| |\\verb|formula,|\\verb| |\\verb|the|\\verb| |\\verb|coefficient|\\verb| |\\verb|matrix|\\verb| |\\verb|A|\\verb| |\\verb|for|\\verb| |\\verb|m|\\verb| |\\verb|=| \\verb| |\\verb|5| \\verb| |\\verb|and|\\verb| |\\verb|a|\\verb| |\\verb|=| \\verb| |\\verb|1| \\verb| |\\verb|is|$"
      ],
      "text/plain": [
       "'Using the formula, the coefficient matrix A for m =' ' 5' ' and a =' ' 1' ' is'"
      ]
     },
     "metadata": {},
     "output_type": "display_data"
    },
    {
     "data": {
      "text/html": [
       "<html>\\(\\displaystyle \\left(\\begin{array}{rrrrrrrr}\n",
       "944 & 162184 & 9363816 & 260929812 & 4076349420 & 38910617564 & 239877544004 & 991493847519 \\\\\n",
       "826 & 133931 & 7051044 & 177219757 & 2481248770 & 21090680793 & 114955808408 & 416714805913 \\\\\n",
       "708 & 108870 & 5227222 & 117986427 & 1471399215 & 11058098324 & 52860226020 & 166509721449 \\\\\n",
       "590 & 86545 & 3799620 & 76778715 & 847475772 & 5586727510 & 23206891080 & 62852096805 \\\\\n",
       "472 & 66500 & 2686068 & 48583722 & 472087110 & 2706828502 & 9669234330 & 22239899817 \\\\\n",
       "354 & 48279 & 1813196 & 29524869 & 252225600 & 1248973544 & 3794335944 & 7307136639 \\\\\n",
       "236 & 31426 & 1114674 & 16593929 & 125816405 & 538696340 & 1382317940 & 2198649695 \\\\\n",
       "118 & 15485 & 529452 & 7410195 & 51389130 & 195371085 & 431319000 & 570658635\n",
       "\\end{array}\\right) .\\)</html>"
      ],
      "text/latex": [
       "$\\displaystyle \\left(\\begin{array}{rrrrrrrr}\n",
       "944 & 162184 & 9363816 & 260929812 & 4076349420 & 38910617564 & 239877544004 & 991493847519 \\\\\n",
       "826 & 133931 & 7051044 & 177219757 & 2481248770 & 21090680793 & 114955808408 & 416714805913 \\\\\n",
       "708 & 108870 & 5227222 & 117986427 & 1471399215 & 11058098324 & 52860226020 & 166509721449 \\\\\n",
       "590 & 86545 & 3799620 & 76778715 & 847475772 & 5586727510 & 23206891080 & 62852096805 \\\\\n",
       "472 & 66500 & 2686068 & 48583722 & 472087110 & 2706828502 & 9669234330 & 22239899817 \\\\\n",
       "354 & 48279 & 1813196 & 29524869 & 252225600 & 1248973544 & 3794335944 & 7307136639 \\\\\n",
       "236 & 31426 & 1114674 & 16593929 & 125816405 & 538696340 & 1382317940 & 2198649695 \\\\\n",
       "118 & 15485 & 529452 & 7410195 & 51389130 & 195371085 & 431319000 & 570658635\n",
       "\\end{array}\\right) .$"
      ],
      "text/plain": [
       "[         944       162184      9363816    260929812   4076349420  38910617564 239877544004 991493847519]\n",
       "[         826       133931      7051044    177219757   2481248770  21090680793 114955808408 416714805913]\n",
       "[         708       108870      5227222    117986427   1471399215  11058098324  52860226020 166509721449]\n",
       "[         590        86545      3799620     76778715    847475772   5586727510  23206891080  62852096805]\n",
       "[         472        66500      2686068     48583722    472087110   2706828502   9669234330  22239899817]\n",
       "[         354        48279      1813196     29524869    252225600   1248973544   3794335944   7307136639]\n",
       "[         236        31426      1114674     16593929    125816405    538696340   1382317940   2198649695]\n",
       "[         118        15485       529452      7410195     51389130    195371085    431319000    570658635] '.'"
      ]
     },
     "metadata": {},
     "output_type": "display_data"
    }
   ],
   "source": [
    "m = 5\n",
    "str_m = ' ' + str(m)\n",
    "a = 1\n",
    "str_a = ' ' + str(a)\n",
    "A_actual = matrix_A_actual(m, a)\n",
    "A_formula = matrix_A_formula(m, a)\n",
    "show('The actual coefficient matrix A for m =', str_m, ' and a =', str_a, ' is')\n",
    "show(A_actual, '.')\n",
    "show('Using the formula, the coefficient matrix A for m =', str_m, ' and a =', str_a, ' is')\n",
    "show(A_formula, '.')"
   ]
  },
  {
   "cell_type": "code",
   "execution_count": 7,
   "id": "da32e02e",
   "metadata": {},
   "outputs": [
    {
     "data": {
      "text/html": [
       "<html>\\(\\displaystyle \\verb|The|\\verb| |\\verb|elimination|\\verb| |\\verb|matrix|\\verb| |\\verb|P|\\verb| |\\verb|for|\\verb| |\\verb|m|\\verb| |\\verb|=| \\verb| |\\verb|5| \\verb| |\\verb|and|\\verb| |\\verb|a|\\verb| |\\verb|=| \\verb| |\\verb|1| \\verb| |\\verb|is|\\)</html>"
      ],
      "text/latex": [
       "$\\displaystyle \\verb|The|\\verb| |\\verb|elimination|\\verb| |\\verb|matrix|\\verb| |\\verb|P|\\verb| |\\verb|for|\\verb| |\\verb|m|\\verb| |\\verb|=| \\verb| |\\verb|5| \\verb| |\\verb|and|\\verb| |\\verb|a|\\verb| |\\verb|=| \\verb| |\\verb|1| \\verb| |\\verb|is|$"
      ],
      "text/plain": [
       "'The elimination matrix P for m =' ' 5' ' and a =' ' 1' ' is'"
      ]
     },
     "metadata": {},
     "output_type": "display_data"
    },
    {
     "data": {
      "text/html": [
       "<html>\\(\\displaystyle \\left(\\begin{array}{rrrrrrrr}\n",
       "1 & -14 & 90 & -350 & 910 & -1638 & 2002 & -1430 \\\\\n",
       "0 & 1 & -12 & 65 & -208 & 429 & -572 & 429 \\\\\n",
       "0 & 0 & 1 & -10 & 44 & -110 & 165 & -132 \\\\\n",
       "0 & 0 & 0 & 1 & -8 & 27 & -48 & 42 \\\\\n",
       "0 & 0 & 0 & 0 & 1 & -6 & 14 & -14 \\\\\n",
       "0 & 0 & 0 & 0 & 0 & 1 & -4 & 5 \\\\\n",
       "0 & 0 & 0 & 0 & 0 & 0 & 1 & -2 \\\\\n",
       "0 & 0 & 0 & 0 & 0 & 0 & 0 & 1\n",
       "\\end{array}\\right) .\\)</html>"
      ],
      "text/latex": [
       "$\\displaystyle \\left(\\begin{array}{rrrrrrrr}\n",
       "1 & -14 & 90 & -350 & 910 & -1638 & 2002 & -1430 \\\\\n",
       "0 & 1 & -12 & 65 & -208 & 429 & -572 & 429 \\\\\n",
       "0 & 0 & 1 & -10 & 44 & -110 & 165 & -132 \\\\\n",
       "0 & 0 & 0 & 1 & -8 & 27 & -48 & 42 \\\\\n",
       "0 & 0 & 0 & 0 & 1 & -6 & 14 & -14 \\\\\n",
       "0 & 0 & 0 & 0 & 0 & 1 & -4 & 5 \\\\\n",
       "0 & 0 & 0 & 0 & 0 & 0 & 1 & -2 \\\\\n",
       "0 & 0 & 0 & 0 & 0 & 0 & 0 & 1\n",
       "\\end{array}\\right) .$"
      ],
      "text/plain": [
       "[    1   -14    90  -350   910 -1638  2002 -1430]\n",
       "[    0     1   -12    65  -208   429  -572   429]\n",
       "[    0     0     1   -10    44  -110   165  -132]\n",
       "[    0     0     0     1    -8    27   -48    42]\n",
       "[    0     0     0     0     1    -6    14   -14]\n",
       "[    0     0     0     0     0     1    -4     5]\n",
       "[    0     0     0     0     0     0     1    -2]\n",
       "[    0     0     0     0     0     0     0     1] '.'"
      ]
     },
     "metadata": {},
     "output_type": "display_data"
    },
    {
     "data": {
      "text/html": [
       "<html>\\(\\displaystyle \\verb|For|\\verb| |\\verb|the|\\verb| |\\verb|actual|\\verb| |\\verb|coefficient|\\verb| |\\verb|matrix|\\verb| |\\verb|A,|\\verb| |\\verb|we|\\verb| |\\verb|have|\\verb| |\\verb|that|\\verb| |\\verb|PA|\\verb| |\\verb|is|\\)</html>"
      ],
      "text/latex": [
       "$\\displaystyle \\verb|For|\\verb| |\\verb|the|\\verb| |\\verb|actual|\\verb| |\\verb|coefficient|\\verb| |\\verb|matrix|\\verb| |\\verb|A,|\\verb| |\\verb|we|\\verb| |\\verb|have|\\verb| |\\verb|that|\\verb| |\\verb|PA|\\verb| |\\verb|is|$"
      ],
      "text/plain": [
       "'For the actual coefficient matrix A, we have that PA is'"
      ]
     },
     "metadata": {},
     "output_type": "display_data"
    },
    {
     "data": {
      "text/html": [
       "<html>\\(\\displaystyle \\left(\\begin{array}{rrrrrrrr}\n",
       "0 & 0 & 0 & 0 & 0 & 0 & 0 & 1473525 \\\\\n",
       "0 & 0 & 0 & 0 & 0 & 0 & 385024 & 31825920 \\\\\n",
       "0 & 0 & 0 & 0 & 0 & 100352 & 9024000 & 209574912 \\\\\n",
       "0 & 0 & 0 & 0 & 26112 & 2546432 & 64223808 & 658064832 \\\\\n",
       "0 & 0 & 0 & 6784 & 715360 & 19540808 & 217203826 & 1188954823 \\\\\n",
       "0 & 0 & 1760 & 200128 & 5905630 & 71043609 & 421659184 & 1365831034 \\\\\n",
       "0 & 456 & 55770 & 1773539 & 23038145 & 147954170 & 519679940 & 1057332425 \\\\\n",
       "118 & 15485 & 529452 & 7410195 & 51389130 & 195371085 & 431319000 & 570658635\n",
       "\\end{array}\\right) .\\)</html>"
      ],
      "text/latex": [
       "$\\displaystyle \\left(\\begin{array}{rrrrrrrr}\n",
       "0 & 0 & 0 & 0 & 0 & 0 & 0 & 1473525 \\\\\n",
       "0 & 0 & 0 & 0 & 0 & 0 & 385024 & 31825920 \\\\\n",
       "0 & 0 & 0 & 0 & 0 & 100352 & 9024000 & 209574912 \\\\\n",
       "0 & 0 & 0 & 0 & 26112 & 2546432 & 64223808 & 658064832 \\\\\n",
       "0 & 0 & 0 & 6784 & 715360 & 19540808 & 217203826 & 1188954823 \\\\\n",
       "0 & 0 & 1760 & 200128 & 5905630 & 71043609 & 421659184 & 1365831034 \\\\\n",
       "0 & 456 & 55770 & 1773539 & 23038145 & 147954170 & 519679940 & 1057332425 \\\\\n",
       "118 & 15485 & 529452 & 7410195 & 51389130 & 195371085 & 431319000 & 570658635\n",
       "\\end{array}\\right) .$"
      ],
      "text/plain": [
       "[         0          0          0          0          0          0          0    1473525]\n",
       "[         0          0          0          0          0          0     385024   31825920]\n",
       "[         0          0          0          0          0     100352    9024000  209574912]\n",
       "[         0          0          0          0      26112    2546432   64223808  658064832]\n",
       "[         0          0          0       6784     715360   19540808  217203826 1188954823]\n",
       "[         0          0       1760     200128    5905630   71043609  421659184 1365831034]\n",
       "[         0        456      55770    1773539   23038145  147954170  519679940 1057332425]\n",
       "[       118      15485     529452    7410195   51389130  195371085  431319000  570658635] '.'"
      ]
     },
     "metadata": {},
     "output_type": "display_data"
    },
    {
     "data": {
      "text/html": [
       "<html>\\(\\displaystyle \\verb|Using|\\verb| |\\verb|the|\\verb| |\\verb|formula|\\verb| |\\verb|for|\\verb| |\\verb|the|\\verb| |\\verb|coefficient|\\verb| |\\verb|matrix|\\verb| |\\verb|A,|\\verb| |\\verb|we|\\verb| |\\verb|have|\\verb| |\\verb|that|\\verb| |\\verb|PA|\\verb| |\\verb|is|\\)</html>"
      ],
      "text/latex": [
       "$\\displaystyle \\verb|Using|\\verb| |\\verb|the|\\verb| |\\verb|formula|\\verb| |\\verb|for|\\verb| |\\verb|the|\\verb| |\\verb|coefficient|\\verb| |\\verb|matrix|\\verb| |\\verb|A,|\\verb| |\\verb|we|\\verb| |\\verb|have|\\verb| |\\verb|that|\\verb| |\\verb|PA|\\verb| |\\verb|is|$"
      ],
      "text/plain": [
       "'Using the formula for the coefficient matrix A, we have that PA is'"
      ]
     },
     "metadata": {},
     "output_type": "display_data"
    },
    {
     "data": {
      "text/html": [
       "<html>\\(\\displaystyle \\left(\\begin{array}{rrrrrrrr}\n",
       "0 & 0 & 0 & 0 & 0 & 0 & 0 & 1473525 \\\\\n",
       "0 & 0 & 0 & 0 & 0 & 0 & 385024 & 31825920 \\\\\n",
       "0 & 0 & 0 & 0 & 0 & 100352 & 9024000 & 209574912 \\\\\n",
       "0 & 0 & 0 & 0 & 26112 & 2546432 & 64223808 & 658064832 \\\\\n",
       "0 & 0 & 0 & 6784 & 715360 & 19540808 & 217203826 & 1188954823 \\\\\n",
       "0 & 0 & 1760 & 200128 & 5905630 & 71043609 & 421659184 & 1365831034 \\\\\n",
       "0 & 456 & 55770 & 1773539 & 23038145 & 147954170 & 519679940 & 1057332425 \\\\\n",
       "118 & 15485 & 529452 & 7410195 & 51389130 & 195371085 & 431319000 & 570658635\n",
       "\\end{array}\\right) .\\)</html>"
      ],
      "text/latex": [
       "$\\displaystyle \\left(\\begin{array}{rrrrrrrr}\n",
       "0 & 0 & 0 & 0 & 0 & 0 & 0 & 1473525 \\\\\n",
       "0 & 0 & 0 & 0 & 0 & 0 & 385024 & 31825920 \\\\\n",
       "0 & 0 & 0 & 0 & 0 & 100352 & 9024000 & 209574912 \\\\\n",
       "0 & 0 & 0 & 0 & 26112 & 2546432 & 64223808 & 658064832 \\\\\n",
       "0 & 0 & 0 & 6784 & 715360 & 19540808 & 217203826 & 1188954823 \\\\\n",
       "0 & 0 & 1760 & 200128 & 5905630 & 71043609 & 421659184 & 1365831034 \\\\\n",
       "0 & 456 & 55770 & 1773539 & 23038145 & 147954170 & 519679940 & 1057332425 \\\\\n",
       "118 & 15485 & 529452 & 7410195 & 51389130 & 195371085 & 431319000 & 570658635\n",
       "\\end{array}\\right) .$"
      ],
      "text/plain": [
       "[         0          0          0          0          0          0          0    1473525]\n",
       "[         0          0          0          0          0          0     385024   31825920]\n",
       "[         0          0          0          0          0     100352    9024000  209574912]\n",
       "[         0          0          0          0      26112    2546432   64223808  658064832]\n",
       "[         0          0          0       6784     715360   19540808  217203826 1188954823]\n",
       "[         0          0       1760     200128    5905630   71043609  421659184 1365831034]\n",
       "[         0        456      55770    1773539   23038145  147954170  519679940 1057332425]\n",
       "[       118      15485     529452    7410195   51389130  195371085  431319000  570658635] '.'"
      ]
     },
     "metadata": {},
     "output_type": "display_data"
    }
   ],
   "source": [
    "P = matrix_P(m, a)\n",
    "show('The elimination matrix P for m =', str_m, ' and a =', str_a, ' is')\n",
    "show(P, '.')\n",
    "show('For the actual coefficient matrix A, we have that PA is')\n",
    "show(P * A_actual, '.')\n",
    "show('Using the formula for the coefficient matrix A, we have that PA is')\n",
    "show(P * A_formula, '.')"
   ]
  },
  {
   "cell_type": "code",
   "execution_count": 8,
   "id": "c6daeb49",
   "metadata": {},
   "outputs": [
    {
     "data": {
      "text/html": [
       "<html>\\(\\displaystyle \\verb|The|\\verb| |\\verb|actual|\\verb| |\\verb|entries|\\verb| |\\verb|of|\\verb| |\\verb|the|\\verb| |\\verb|anti-diagonal|\\verb| |\\verb|of|\\verb| |\\verb|PA|\\verb| |\\verb|for|\\verb| |\\verb|m|\\verb| |\\verb|=| \\verb| |\\verb|5| \\verb| |\\verb|and|\\verb| |\\verb|a|\\verb| |\\verb|=| \\verb| |\\verb|1| \\verb| |\\verb|are|\\)</html>"
      ],
      "text/latex": [
       "$\\displaystyle \\verb|The|\\verb| |\\verb|actual|\\verb| |\\verb|entries|\\verb| |\\verb|of|\\verb| |\\verb|the|\\verb| |\\verb|anti-diagonal|\\verb| |\\verb|of|\\verb| |\\verb|PA|\\verb| |\\verb|for|\\verb| |\\verb|m|\\verb| |\\verb|=| \\verb| |\\verb|5| \\verb| |\\verb|and|\\verb| |\\verb|a|\\verb| |\\verb|=| \\verb| |\\verb|1| \\verb| |\\verb|are|$"
      ],
      "text/plain": [
       "'The actual entries of the anti-diagonal of PA for m =' ' 5' ' and a =' ' 1' ' are'"
      ]
     },
     "metadata": {},
     "output_type": "display_data"
    },
    {
     "data": {
      "text/html": [
       "<html>\\(\\displaystyle \\left[118, 456, 1760, 6784, 26112, 100352, 385024, 1473525\\right] .\\)</html>"
      ],
      "text/latex": [
       "$\\displaystyle \\left[118, 456, 1760, 6784, 26112, 100352, 385024, 1473525\\right] .$"
      ],
      "text/plain": [
       "[118, 456, 1760, 6784, 26112, 100352, 385024, 1473525] '.'"
      ]
     },
     "metadata": {},
     "output_type": "display_data"
    },
    {
     "data": {
      "text/html": [
       "<html>\\(\\displaystyle \\verb|Using|\\verb| |\\verb|the|\\verb| |\\verb|formula,|\\verb| |\\verb|the|\\verb| |\\verb|entries|\\verb| |\\verb|of|\\verb| |\\verb|the|\\verb| |\\verb|anti-diagonal|\\verb| |\\verb|of|\\verb| |\\verb|PA|\\verb| |\\verb|for|\\verb| |\\verb|m|\\verb| |\\verb|=| \\verb| |\\verb|5| \\verb| |\\verb|and|\\verb| |\\verb|a|\\verb| |\\verb|=| \\verb| |\\verb|1| \\verb| |\\verb|are|\\)</html>"
      ],
      "text/latex": [
       "$\\displaystyle \\verb|Using|\\verb| |\\verb|the|\\verb| |\\verb|formula,|\\verb| |\\verb|the|\\verb| |\\verb|entries|\\verb| |\\verb|of|\\verb| |\\verb|the|\\verb| |\\verb|anti-diagonal|\\verb| |\\verb|of|\\verb| |\\verb|PA|\\verb| |\\verb|for|\\verb| |\\verb|m|\\verb| |\\verb|=| \\verb| |\\verb|5| \\verb| |\\verb|and|\\verb| |\\verb|a|\\verb| |\\verb|=| \\verb| |\\verb|1| \\verb| |\\verb|are|$"
      ],
      "text/plain": [
       "'Using the formula, the entries of the anti-diagonal of PA for m =' ' 5' ' and a =' ' 1' ' are'"
      ]
     },
     "metadata": {},
     "output_type": "display_data"
    },
    {
     "data": {
      "text/html": [
       "<html>\\(\\displaystyle \\left[118, 456, 1760, 6784, 26112, 100352, 385024, 1473525\\right] .\\)</html>"
      ],
      "text/latex": [
       "$\\displaystyle \\left[118, 456, 1760, 6784, 26112, 100352, 385024, 1473525\\right] .$"
      ],
      "text/plain": [
       "[118, 456, 1760, 6784, 26112, 100352, 385024, 1473525] '.'"
      ]
     },
     "metadata": {},
     "output_type": "display_data"
    }
   ],
   "source": [
    "actual_entries = []\n",
    "show('The actual entries of the anti-diagonal of PA for m =', str_m, ' and a =', str_a, ' are')\n",
    "show(anti_diagonal_actual(m, a), '.')\n",
    "show('Using the formula, the entries of the anti-diagonal of PA for m =', str_m, ' and a =', str_a, ' are')\n",
    "show(anti_diagonal_formula(m, a), '.')"
   ]
  }
 ],
 "metadata": {
  "kernelspec": {
   "display_name": "SageMath 10.6",
   "language": "sage",
   "name": "sagemath-10.6"
  },
  "language_info": {
   "codemirror_mode": {
    "name": "ipython",
    "version": 3
   },
   "file_extension": ".py",
   "mimetype": "text/x-python",
   "name": "python",
   "nbconvert_exporter": "python",
   "pygments_lexer": "ipython3",
   "version": "3.12.5"
  }
 },
 "nbformat": 4,
 "nbformat_minor": 5
}
